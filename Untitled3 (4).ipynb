{
  "nbformat": 4,
  "nbformat_minor": 0,
  "metadata": {
    "colab": {
      "provenance": []
    },
    "kernelspec": {
      "name": "python3",
      "display_name": "Python 3"
    },
    "language_info": {
      "name": "python"
    }
  },
  "cells": [
    {
      "cell_type": "markdown",
      "source": [
        "# 1. What is a lambda function in Python, and how does it differ from a regular function?"
      ],
      "metadata": {
        "id": "2Nr_arS4NtRW"
      }
    },
    {
      "cell_type": "markdown",
      "source": [
        "Lambda Function, also referred to as ‘Anonymous function’ is same as a regular python function but can be defined without a name. While normal functions are defined using the def keyword, anonymous functions are defined using the lambda keyword. However,they are restricted to single line of expression. They can take in mutliple parameters as in regular functions."
      ],
      "metadata": {
        "id": "AzC5WmjkN6xb"
      }
    },
    {
      "cell_type": "code",
      "source": [
        "f = lambda X: X * X\n",
        "num = int (input(\"enter the numbar:\"))\n",
        "print(f(num))"
      ],
      "metadata": {
        "colab": {
          "base_uri": "https://localhost:8080/"
        },
        "id": "mDxAAstbNwDa",
        "outputId": "9fa16e87-774e-46f5-8300-8e36c5744ce0"
      },
      "execution_count": null,
      "outputs": [
        {
          "output_type": "stream",
          "name": "stdout",
          "text": [
            "enter the numbar:91\n",
            "8281\n"
          ]
        }
      ]
    },
    {
      "cell_type": "code",
      "source": [
        "add = lambda a, b: a + b\n",
        "num1 = int (input(\"enter 1st numbar:\"))\n",
        "num2 = int (input(\"enter 2nd numbar:\"))\n",
        "print(add(num1, num2))"
      ],
      "metadata": {
        "colab": {
          "base_uri": "https://localhost:8080/"
        },
        "id": "hOx-MH-6O6Ms",
        "outputId": "0c4a4b25-9474-4905-d7f2-a771fd4bc9e0"
      },
      "execution_count": null,
      "outputs": [
        {
          "output_type": "stream",
          "name": "stdout",
          "text": [
            "enter 1st numbar:19\n",
            "enter 2nd numbar:45\n",
            "64\n"
          ]
        }
      ]
    },
    {
      "cell_type": "code",
      "source": [
        "products = [{'name': 'phone', 'price': 10000},\n",
        "           {'name': 'Printer', 'price': 20000},\n",
        "           {'name': 'Laptop', 'price': 40000},\n",
        "           {'name': 'Headphone', 'price': 5000},]\n",
        "\n",
        "sorted_product = sorted(products, key = lambda x: x['price'],\n",
        "                        reverse = True)\n",
        "\n",
        "for products in sorted_product:\n",
        "  print(products)"
      ],
      "metadata": {
        "colab": {
          "base_uri": "https://localhost:8080/"
        },
        "id": "TpmFnE4yPJXf",
        "outputId": "9748dc51-00f2-4ca2-cdb9-5bc09cfb9aa0"
      },
      "execution_count": null,
      "outputs": [
        {
          "output_type": "stream",
          "name": "stdout",
          "text": [
            "{'name': 'Laptop', 'price': 40000}\n",
            "{'name': 'Printer', 'price': 20000}\n",
            "{'name': 'phone', 'price': 10000}\n",
            "{'name': 'Headphone', 'price': 5000}\n"
          ]
        }
      ]
    },
    {
      "cell_type": "markdown",
      "source": [
        "# 2. Can a lambda function in Python have multiple arguments? If yes, how can you define and use them?"
      ],
      "metadata": {
        "id": "NevWafbDNsnX"
      }
    },
    {
      "cell_type": "code",
      "source": [
        "f = lambda X: X * X\n",
        "num = int (input(\"enter the numbar:\"))\n",
        "print(f(num))"
      ],
      "metadata": {
        "colab": {
          "base_uri": "https://localhost:8080/"
        },
        "id": "3wYjtQwGXj6u",
        "outputId": "ca797e02-6594-4972-d9fe-20f3dcdc4f31"
      },
      "execution_count": null,
      "outputs": [
        {
          "output_type": "stream",
          "name": "stdout",
          "text": [
            "enter the numbar:68\n",
            "4624\n"
          ]
        }
      ]
    },
    {
      "cell_type": "code",
      "source": [
        "add = lambda a, b: a + b\n",
        "num1 = int (input(\"enter 1st numbar:\"))\n",
        "num2 = int (input(\"enter 2nd numbar:\"))\n",
        "print(add(num1, num2))"
      ],
      "metadata": {
        "colab": {
          "base_uri": "https://localhost:8080/"
        },
        "id": "kljS7TKCXj3Z",
        "outputId": "afc91a6f-0f65-49cb-dda8-bd077cb763df"
      },
      "execution_count": null,
      "outputs": [
        {
          "output_type": "stream",
          "name": "stdout",
          "text": [
            "enter 1st numbar:16\n",
            "enter 2nd numbar:24\n",
            "40\n"
          ]
        }
      ]
    },
    {
      "cell_type": "code",
      "source": [
        "# i have a list [1, 2, 3, 4, ...]\n",
        "\n",
        "my_list_cal = lambda x: [i ** 2 for i in x]\n",
        "print(my_list_cal([10, 20, 30, 40, 50, 60, 70, 80, 90, 100]))"
      ],
      "metadata": {
        "colab": {
          "base_uri": "https://localhost:8080/"
        },
        "id": "KeVyFi9CXjtj",
        "outputId": "9987627f-35a9-49b6-bc8f-1007ba231afb"
      },
      "execution_count": null,
      "outputs": [
        {
          "output_type": "stream",
          "name": "stdout",
          "text": [
            "[100, 400, 900, 1600, 2500, 3600, 4900, 6400, 8100, 10000]\n"
          ]
        }
      ]
    },
    {
      "cell_type": "code",
      "source": [
        "products = [{'name': 'Camera', 'price': 10000},\n",
        "           {'name': 'A.C', 'price': 55000},\n",
        "           {'name': 'TV', 'price': 15000},\n",
        "           {'name': 'Clock', 'price': 5000},]\n",
        "\n",
        "sorted_product = sorted(products, key = lambda x: x['price'],\n",
        "                        reverse = True)\n",
        "\n",
        "for products in sorted_product:\n",
        "  print(products)"
      ],
      "metadata": {
        "colab": {
          "base_uri": "https://localhost:8080/"
        },
        "id": "J5IuPHnqXjqN",
        "outputId": "5c78d54f-0226-4755-f6cd-e736ef88ea8a"
      },
      "execution_count": null,
      "outputs": [
        {
          "output_type": "stream",
          "name": "stdout",
          "text": [
            "{'name': 'A.C', 'price': 55000}\n",
            "{'name': 'TV', 'price': 15000}\n",
            "{'name': 'Camera', 'price': 10000}\n",
            "{'name': 'Clock', 'price': 5000}\n"
          ]
        }
      ]
    },
    {
      "cell_type": "markdown",
      "source": [
        "# 3. How are lambda functions typically used in Python? Provide an example use case."
      ],
      "metadata": {
        "id": "vnx3wIiTNsB0"
      }
    },
    {
      "cell_type": "markdown",
      "source": [
        "# **Ans**:-*In Python, we generally use Lambda Functions as an argument to a higher-order function (a function that takes in other functions as arguments). For Example, These are used together with built-in functions like filter(), map(), and reduce(), etc, which we will discuss later in this article.*\n",
        "\n"
      ],
      "metadata": {
        "id": "luosYheULw_b"
      }
    },
    {
      "cell_type": "code",
      "source": [
        "sequences = [10,2,8,7,5,4,3,11,0, 1]\n",
        "filtered_answer = filter (lambda x: x > 6, sequences)\n",
        "print(list(filtered_answer))"
      ],
      "metadata": {
        "id": "vbUzybtJNrv5",
        "colab": {
          "base_uri": "https://localhost:8080/"
        },
        "outputId": "c0c8c906-54d2-41cc-f557-794366930e95"
      },
      "execution_count": null,
      "outputs": [
        {
          "output_type": "stream",
          "name": "stdout",
          "text": [
            "[10, 8, 7, 11]\n"
          ]
        }
      ]
    },
    {
      "cell_type": "markdown",
      "source": [
        "# 4. What are the advantages and limitations of lambda functions compared to regular functions in Python?"
      ],
      "metadata": {
        "id": "bw0SuKlYNrZB"
      }
    },
    {
      "cell_type": "markdown",
      "source": [
        "Ans:-1. Lambda helps you use a function only once, and hence, avoids cluttering up the code with function definitions. In short, Python's lambda keyword lets you define a function in a single line of code and use it immediately.\n",
        "\n",
        "2. However, lambda functions can only contain a single expression and cannot include statements, making them less suitable for complex operations. Regular functions, on the other hand, are defined using the def keyword and can contain multiple lines of code and statements."
      ],
      "metadata": {
        "id": "swHIqDL4VH4b"
      }
    },
    {
      "cell_type": "markdown",
      "source": [
        "# 5. Are lambda functions in Python able to access variables defined outside of their own scope? Explain with an example."
      ],
      "metadata": {
        "id": "LV8-0D3BNq1i"
      }
    },
    {
      "cell_type": "markdown",
      "source": [
        "Ans:-I need a callback function that is almost exactly the same for a series of gui events. The function will behave slightly differently depending on which event has called it. Seems like a simple case to me, but I cannot figure out this weird behavior of lambda functions."
      ],
      "metadata": {
        "id": "bpl3tG5GNqAV"
      }
    },
    {
      "cell_type": "code",
      "source": [
        "def callback(msg):\n",
        "  print(msg)\n",
        "\n",
        "#creating a list of function handles with an iterator\n",
        "funcList=[]\n",
        "for m in ('do', 're', 'mi'):\n",
        "    funcList.append(lambda: callback(m))\n",
        "for f in funcList:\n",
        "    f()\n",
        "\n",
        "#create one at a time\n",
        "funcList=[]\n",
        "funcList.append(lambda: callback('do'))\n",
        "funcList.append(lambda: callback('re'))\n",
        "funcList.append(lambda: callback('mi'))\n",
        "for f in funcList:\n",
        "    f()"
      ],
      "metadata": {
        "id": "ckHa2K61Npv_",
        "colab": {
          "base_uri": "https://localhost:8080/"
        },
        "outputId": "14fcbd59-35ec-425e-8d37-d0bb3d57e642"
      },
      "execution_count": 1,
      "outputs": [
        {
          "output_type": "stream",
          "name": "stdout",
          "text": [
            "mi\n",
            "mi\n",
            "mi\n",
            "do\n",
            "re\n",
            "mi\n"
          ]
        }
      ]
    },
    {
      "cell_type": "markdown",
      "source": [
        "# 6. Write a lambda function to calculate the square of a given number."
      ],
      "metadata": {
        "id": "ePCYbcqpNpap"
      }
    },
    {
      "cell_type": "code",
      "source": [
        "# i have a list [1, 2, 3, 4, ...]\n",
        "\n",
        "my_list_cal = lambda x: [i ** 2 for i in x]\n",
        "print(my_list_cal([11, 22, 33, 44, 55, 66, 77, 88, 99]))"
      ],
      "metadata": {
        "id": "KR9ylUXgNoyM",
        "colab": {
          "base_uri": "https://localhost:8080/"
        },
        "outputId": "1c14f956-a46a-4e45-c353-b2438f06acf6"
      },
      "execution_count": null,
      "outputs": [
        {
          "output_type": "stream",
          "name": "stdout",
          "text": [
            "[121, 484, 1089, 1936, 3025, 4356, 5929, 7744, 9801]\n"
          ]
        }
      ]
    },
    {
      "cell_type": "markdown",
      "source": [
        "# 7. Create a lambda function to find the maximum value in a list of integers."
      ],
      "metadata": {
        "id": "xuEbxMglUYnl"
      }
    },
    {
      "cell_type": "code",
      "source": [
        "def max_val(list_val):\n",
        "     max_val = max(list_val, key = lambda i: (isinstance(i, int), i))\n",
        "     return(max_val)\n",
        "\n",
        "list_val = ['Python', 3, 2, 4, 5, 'version']\n",
        "print(\"Original list:\")\n",
        "print(list_val)\n",
        "print(\"\\nMaximum values in the said list using lambda:\")\n",
        "print(max_val(list_val))"
      ],
      "metadata": {
        "id": "DknD0ukKUYMn",
        "colab": {
          "base_uri": "https://localhost:8080/"
        },
        "outputId": "761bc0c1-85e8-4698-eda0-9497268d6102"
      },
      "execution_count": null,
      "outputs": [
        {
          "output_type": "stream",
          "name": "stdout",
          "text": [
            "Original list:\n",
            "['Python', 3, 2, 4, 5, 'version']\n",
            "\n",
            "Maximum values in the said list using lambda:\n",
            "5\n"
          ]
        }
      ]
    },
    {
      "cell_type": "markdown",
      "source": [
        "# 8. Implement a lambda function to filter out all the even numbers from a list of integers."
      ],
      "metadata": {
        "id": "0Dt1-GKNjPcm"
      }
    },
    {
      "cell_type": "code",
      "source": [
        "nums = [1, 2, 3, 4, 5, 6, 7, 8, 9, 10]\n",
        "print(\"Original list of integers:\")\n",
        "print(nums)\n",
        "print(\"\\nEven numbers from the said list:\")\n",
        "even_nums = list(filter(lambda x: x%2 == 0, nums))\n",
        "print(even_nums)\n",
        "print(\"\\nOdd numbers from the said list:\")\n",
        "odd_nums = list(filter(lambda x: x%2 != 0, nums))\n",
        "print(odd_nums)"
      ],
      "metadata": {
        "id": "YB-kc4aOUYGy",
        "colab": {
          "base_uri": "https://localhost:8080/"
        },
        "outputId": "e5c638dd-3bb9-49ba-b6db-9f8a7aba3d89"
      },
      "execution_count": null,
      "outputs": [
        {
          "output_type": "stream",
          "name": "stdout",
          "text": [
            "Original list of integers:\n",
            "[1, 2, 3, 4, 5, 6, 7, 8, 9, 10]\n",
            "\n",
            "Even numbers from the said list:\n",
            "[2, 4, 6, 8, 10]\n",
            "\n",
            "Odd numbers from the said list:\n",
            "[1, 3, 5, 7, 9]\n"
          ]
        }
      ]
    },
    {
      "cell_type": "markdown",
      "source": [
        "# 9. Write a lambda function to sort a list of strings in ascending order based on the length of each string."
      ],
      "metadata": {
        "id": "UcqdW45QkIef"
      }
    },
    {
      "cell_type": "code",
      "source": [
        "# Python3 code to demonstrate working of\n",
        "# Sort Strings in String list\n",
        "# using list comprehension + sorted() + join()\n",
        "\n",
        "# initialize list\n",
        "test_list = ['gfg', 'is', 'good']\n",
        "\n",
        "# printing original list\n",
        "print(\"The original list : \" + str(test_list))\n",
        "\n",
        "# Sort Strings in String list\n",
        "# using list comprehension + sorted() + join()\n",
        "res = [''.join(sorted(ele)) for ele in test_list]\n",
        "\n",
        "# printing result\n",
        "print(\"List after string sorting : \" + str(res))"
      ],
      "metadata": {
        "colab": {
          "base_uri": "https://localhost:8080/"
        },
        "id": "q0Qt2Qw7nkzH",
        "outputId": "2165f445-fbd7-4f73-ec0b-15e7baf5b70e"
      },
      "execution_count": null,
      "outputs": [
        {
          "output_type": "stream",
          "name": "stdout",
          "text": [
            "The original list : ['gfg', 'is', 'good']\n",
            "List after string sorting : ['fgg', 'is', 'dgoo']\n"
          ]
        }
      ]
    },
    {
      "cell_type": "markdown",
      "source": [
        "# 10. Create a lambda function that takes two lists as input and returns a new list containing the common elements between the two lists."
      ],
      "metadata": {
        "id": "DmL3mf95sjYv"
      }
    },
    {
      "cell_type": "code",
      "source": [
        "if __name__ == '__main__':\n",
        "    list_one = [5, 10, 15, 20, 25, 30]\n",
        "    list_two = [10, 20, 30, 40, 50, 60]\n",
        "    common_list = set(list_one).intersection(list_two)\n",
        "    print(common_list)\n"
      ],
      "metadata": {
        "colab": {
          "base_uri": "https://localhost:8080/"
        },
        "id": "WgjkTyp2nksx",
        "outputId": "34cc1766-fb49-44b7-d5ff-6c72916b327f"
      },
      "execution_count": null,
      "outputs": [
        {
          "output_type": "stream",
          "name": "stdout",
          "text": [
            "{10, 20, 30}\n"
          ]
        }
      ]
    },
    {
      "cell_type": "markdown",
      "source": [
        "# 11. Write a recursive function to calculate the factorial of a given positive integer."
      ],
      "metadata": {
        "id": "YEZSDrqOMaGM"
      }
    },
    {
      "cell_type": "code",
      "source": [
        "# Python program to calculate geographic\n",
        "# coordinates of places using google\n",
        "# geocoding API\n",
        "\n",
        "# importing required modules\n",
        "import requests, json\n",
        "\n",
        "# enter your api key here\n",
        "api_key = 'Your_api_key'\n",
        "\n",
        "# url variable store url\n",
        "url = 'https://maps.googleapis.com/maps/api/geocode/json?'\n",
        "\n",
        "# take place as input\n",
        "place = input()\n",
        "\n",
        "# get method of requests module\n",
        "# return response object\n",
        "res_ob = requests.get(url + 'address =' +\n",
        "                place + '&key =' + api_key)\n",
        "\n",
        "# json method of response object\n",
        "# convert json format data\n",
        "# into python format data.\n",
        "x = res_ob.json()\n",
        "\n",
        "# print the value of x\n",
        "print(x)"
      ],
      "metadata": {
        "id": "liyfTZaokRsj",
        "colab": {
          "base_uri": "https://localhost:8080/"
        },
        "outputId": "a364fd87-7881-47e1-9ef2-3bc8139033df"
      },
      "execution_count": null,
      "outputs": [
        {
          "output_type": "stream",
          "name": "stdout",
          "text": [
            "5\n",
            "{'error_message': \"Invalid request. Missing the 'address', 'components', 'latlng' or 'place_id' parameter.\", 'results': [], 'status': 'INVALID_REQUEST'}\n"
          ]
        }
      ]
    },
    {
      "cell_type": "markdown",
      "source": [
        "# 12. Implement a recursive function to compute the nth Fibonacci number."
      ],
      "metadata": {
        "id": "FjOJfRbWYTqQ"
      }
    },
    {
      "cell_type": "code",
      "source": [
        "# Function to find the nth Fibonacci number\n",
        "def fib(n):\n",
        "\n",
        "    if n <= 1:\n",
        "        return n\n",
        "\n",
        "    previousFib = 0\n",
        "    currentFib = 1\n",
        "\n",
        "    for i in range(n - 1):\n",
        "        newFib = previousFib + currentFib\n",
        "        previousFib = currentFib\n",
        "        currentFib = newFib\n",
        "\n",
        "    return currentFib\n",
        "\n",
        "\n",
        "if __name__ == '__main__':\n",
        "\n",
        "    n = 8\n",
        "    print('F(n) =', fib(n))\n"
      ],
      "metadata": {
        "id": "6WI5jI1ikRj0",
        "colab": {
          "base_uri": "https://localhost:8080/"
        },
        "outputId": "48df4723-544c-4d49-de32-0a992a8d484b"
      },
      "execution_count": null,
      "outputs": [
        {
          "output_type": "stream",
          "name": "stdout",
          "text": [
            "F(n) = 21\n"
          ]
        }
      ]
    },
    {
      "cell_type": "markdown",
      "source": [
        "# 13. Create a recursive function to find the sum of all the elements in a given list."
      ],
      "metadata": {
        "id": "swkxMKeGkODD"
      }
    },
    {
      "cell_type": "code",
      "source": [
        "def sum_arr(arr,size):\n",
        "   if (size == 0):\n",
        "     return 0\n",
        "   else:\n",
        "     return arr[size-1] + sum_arr(arr,size-1)\n",
        "n=int(input(\"Enter the number of elements for list:\"))\n",
        "a=[]\n",
        "for i in range(0,n):\n",
        "    element=int(input(\"Enter element:\"))\n",
        "    a.append(element)\n",
        "print(\"The list is:\")\n",
        "print(a)\n",
        "print(\"Sum of items in list:\")\n",
        "b=sum_arr(a,n)\n",
        "print(b)"
      ],
      "metadata": {
        "id": "uzWV-PeWkRgj",
        "colab": {
          "base_uri": "https://localhost:8080/"
        },
        "outputId": "a8889e86-ddf6-4e98-fca1-670f07d7fb35"
      },
      "execution_count": null,
      "outputs": [
        {
          "output_type": "stream",
          "name": "stdout",
          "text": [
            "Enter the number of elements for list:3\n",
            "Enter element:3\n",
            "Enter element:56\n",
            "Enter element:7\n",
            "The list is:\n",
            "[3, 56, 7]\n",
            "Sum of items in list:\n",
            "66\n"
          ]
        }
      ]
    },
    {
      "cell_type": "code",
      "source": [
        "def sum_arr(arr,size):\n",
        "   if (size == 0):\n",
        "     return 0\n",
        "   else:\n",
        "     return arr[size-1] + sum_arr(arr,size-1)\n",
        "n=int(input(\"Enter the number of elements for list:\"))\n",
        "a=[]\n",
        "for i in range(0,n):\n",
        "    element=int(input(\"Enter element:\"))\n",
        "    a.append(element)\n",
        "print(\"The list is:\")\n",
        "print(a)\n",
        "print(\"Sum of items in list:\")\n",
        "b=sum_arr(a,n)\n",
        "print(b)"
      ],
      "metadata": {
        "colab": {
          "base_uri": "https://localhost:8080/"
        },
        "id": "3L5VnPEJkNoM",
        "outputId": "ce2aa6a3-c087-4f8c-879e-e1df267a6928"
      },
      "execution_count": null,
      "outputs": [
        {
          "output_type": "stream",
          "name": "stdout",
          "text": [
            "Enter the number of elements for list:8\n",
            "Enter element:65\n",
            "Enter element:4\n",
            "Enter element:52\n",
            "Enter element:12\n",
            "Enter element:35\n",
            "Enter element:36\n",
            "Enter element:65\n",
            "Enter element:99\n",
            "The list is:\n",
            "[65, 4, 52, 12, 35, 36, 65, 99]\n",
            "Sum of items in list:\n",
            "368\n"
          ]
        }
      ]
    },
    {
      "cell_type": "markdown",
      "source": [
        "#14. Write a recursive function to determine whether a given string is a palindrome."
      ],
      "metadata": {
        "id": "OYN6hXKsmQ-E"
      }
    },
    {
      "cell_type": "code",
      "source": [
        "def isPalindrome(s, i):\n",
        "    if(i > len(s)/2):\n",
        "       return True\n",
        "    ans = False\n",
        "    if((s[i] is s[len(s) - i - 1]) and isPalindrome(s, i + 1)):\n",
        "      ans = True\n",
        "    return ans\n",
        "\n",
        "str = \"geeg\"\n",
        "if (isPalindrome(str, 0)):\n",
        "    print(\"Yes\")\n",
        "else:\n",
        "    print(\"No\")"
      ],
      "metadata": {
        "colab": {
          "base_uri": "https://localhost:8080/"
        },
        "id": "jcATJczKkNfd",
        "outputId": "ee1d76d3-06ad-421c-a275-f315a062667e"
      },
      "execution_count": null,
      "outputs": [
        {
          "output_type": "stream",
          "name": "stdout",
          "text": [
            "Yes\n"
          ]
        }
      ]
    },
    {
      "cell_type": "markdown",
      "source": [
        "# 15. Implement a recursive function to find the greatest common divisor (GCD) of two positive integers."
      ],
      "metadata": {
        "id": "_niNqHmmzI3m"
      }
    },
    {
      "cell_type": "code",
      "source": [
        "# Python program to find GCD of two numbers\n",
        "\n",
        "\n",
        "# Function to find gcd of two numbers\n",
        "def gcd(a, b):\n",
        "\n",
        "    # Find minimum of a and b\n",
        "    result = min(a, b)\n",
        "\n",
        "    while result:\n",
        "        if a % result == 0 and b % result == 0:\n",
        "            break\n",
        "        result -= 1\n",
        "\n",
        "    # Return the gcd of a and b\n",
        "    return result\n",
        "\n",
        "\n",
        "# Driver Code\n",
        "if __name__ == '__main__':\n",
        "    a = 94\n",
        "    b = 46\n",
        "    print(f\"GCD of {a} and {b} is {gcd(a, b)}\")"
      ],
      "metadata": {
        "id": "cdm3lKBtzFmA",
        "colab": {
          "base_uri": "https://localhost:8080/"
        },
        "outputId": "9684c023-b97c-4dfb-c77a-22784a0234e7"
      },
      "execution_count": null,
      "outputs": [
        {
          "output_type": "stream",
          "name": "stdout",
          "text": [
            "GCD of 94 and 46 is 2\n"
          ]
        }
      ]
    },
    {
      "cell_type": "code",
      "source": [],
      "metadata": {
        "id": "YhNHQtBQu0Gv"
      },
      "execution_count": null,
      "outputs": []
    }
  ]
}